{
 "cells": [
  {
   "cell_type": "markdown",
   "id": "7d150940-b174-44ba-9657-727bffe783a5",
   "metadata": {
    "tags": []
   },
   "source": [
    "# Tarea: Entendimiento de los datos"
   ]
  },
  {
   "cell_type": "markdown",
   "id": "672f3c58-84fc-43c3-a691-d6fa5275dc30",
   "metadata": {},
   "source": [
    "## Introducción\n",
    "    Objetivo \n",
    "    Realizar el proceso de entendimiento de datos de WWImporters a través de perfilamiento general, análisis de reglas de negocio, estadísticos y análisis de calidad de datos.\n",
    "\n",
    "    ¿Para qué?\n",
    "    Practicar lo aprendido en el tutorial de entendimiento de los datos.\n"
   ]
  },
  {
   "cell_type": "markdown",
   "id": "a362c753-492e-44be-9692-16ae3a53cf32",
   "metadata": {
    "id": "dm33nuYTPn3L",
    "tags": []
   },
   "source": [
    "## Configuración e importe de paquetes"
   ]
  },
  {
   "cell_type": "code",
   "execution_count": 1,
   "id": "75a2e171-a7ea-4882-aa0a-d676277ae2d4",
   "metadata": {
    "id": "gGiDdRBNPn3M"
   },
   "outputs": [
    {
     "name": "stderr",
     "output_type": "stream",
     "text": [
      "C:\\Users\\estudiante\\anaconda3\\envs\\Tutoriales\\lib\\site-packages\\tqdm\\auto.py:22: TqdmWarning: IProgress not found. Please update jupyter and ipywidgets. See https://ipywidgets.readthedocs.io/en/stable/user_install.html\n",
      "  from .autonotebook import tqdm as notebook_tqdm\n"
     ]
    }
   ],
   "source": [
    "from pyspark.sql import SparkSession\n",
    "from pyspark.sql import functions\n",
    "from pyspark.sql.types import StructType\n",
    "from pyspark import SparkContext, SparkConf, SQLContext\n",
    "from pyspark.sql.types import FloatType, StringType, IntegerType, DateType\n",
    "from pyspark.sql.functions import udf, col, length, isnan, when, count\n",
    "import pyspark.sql.functions as f\n",
    "import os \n",
    "from datetime import datetime\n",
    "from pyspark.sql import types as t\n",
    "from pandas_profiling import ProfileReport\n",
    "import matplotlib.pyplot as plt\n",
    "import numpy as np"
   ]
  },
  {
   "cell_type": "code",
   "execution_count": 2,
   "id": "a9f0e022-0ace-4527-84f8-fdaeb931dc12",
   "metadata": {
    "id": "0r-yix1rPn3O"
   },
   "outputs": [],
   "source": [
    "path_jar_driver = 'C:\\Program Files (x86)\\MySQL\\Connector J 8.0\\mysql-connector-java-8.0.28.jar'"
   ]
  },
  {
   "cell_type": "code",
   "execution_count": 3,
   "id": "c6b7ba53-abb1-4984-bdf8-077625d12d2e",
   "metadata": {
    "id": "0-m3Q2MtPn3O",
    "outputId": "459f0ec2-9a36-4a36-edac-427852524d95"
   },
   "outputs": [
    {
     "name": "stderr",
     "output_type": "stream",
     "text": [
      "C:\\Users\\estudiante\\anaconda3\\envs\\Tutoriales\\lib\\site-packages\\pyspark\\sql\\context.py:79: FutureWarning: Deprecated in 3.0.0. Use SparkSession.builder.getOrCreate() instead.\n",
      "  FutureWarning\n"
     ]
    }
   ],
   "source": [
    "#Configuración de la sesión\n",
    "conf=SparkConf() \\\n",
    "    .set('spark.driver.extraClassPath', path_jar_driver)\n",
    "\n",
    "spark_context = SparkContext(conf=conf)\n",
    "sql_context = SQLContext(spark_context)\n",
    "spark = sql_context.sparkSession"
   ]
  },
  {
   "cell_type": "code",
   "execution_count": 4,
   "id": "9425e101-27c7-44f6-994b-2e5fb88dc4af",
   "metadata": {
    "id": "0eQw66SIPn3P"
   },
   "outputs": [],
   "source": [
    "db_connection_string = 'jdbc:mysql://157.253.236.116:8080/WWImportersTransactional'\n",
    "db_user = 'Estudiante_30_202413'\n",
    "db_psswd = 'aabb1122'\n",
    "PATH='./'"
   ]
  },
  {
   "cell_type": "markdown",
   "id": "07425428-0ea4-4017-b400-41556574e3e7",
   "metadata": {},
   "source": [
    "## Perfilamiento de los datos"
   ]
  },
  {
   "cell_type": "markdown",
   "id": "b7c81ff2-8df1-4acb-94b4-3d9b1c96826a",
   "metadata": {
    "id": "p6KvbuvpPn3Q"
   },
   "source": [
    "### Información dada por la organización\n",
    "Con respecto a esas fuentes nos comentan lo siguiente:\n",
    "\n",
    "- La cantidad máxima de productos movidos es 50 millones por transacción\n",
    "- Existen 236.668 movimientos de producto realizados desde 2013\n",
    "- Los movimientos están relacionados con 228.265 clientes\n",
    "- El formato de fechas manejado es YYYY-MM-DD HH:MM:SS\n",
    "- Actualmente tenemos 13 proveedores\n"
   ]
  },
  {
   "cell_type": "markdown",
   "id": "4e6ed9ed-58ea-40fa-a239-a42d318dc509",
   "metadata": {
    "id": "Xw96w3ywPn3R"
   },
   "source": [
    "### Conexión a fuente de datos y acceso a los datos"
   ]
  },
  {
   "cell_type": "markdown",
   "id": "f8531318-a811-46b0-8a4b-9d2a3341dc4b",
   "metadata": {
    "id": "LKHpN3nzPn3R"
   },
   "source": [
    "#### Conexión a fuente de datos"
   ]
  },
  {
   "cell_type": "code",
   "execution_count": 5,
   "id": "97cc426d-6fdc-47f7-ac54-8824bf031760",
   "metadata": {
    "id": "SsdwInchPn3R"
   },
   "outputs": [],
   "source": [
    "def obtener_dataframe_de_bd(db_connection_string, sql, db_user, db_psswd):\n",
    "    df_bd = spark.read.format('jdbc')\\\n",
    "        .option('url', db_connection_string) \\\n",
    "        .option('dbtable', sql) \\\n",
    "        .option('user', db_user) \\\n",
    "        .option('password', db_psswd) \\\n",
    "        .option('driver', 'com.mysql.cj.jdbc.Driver') \\\n",
    "        .load()\n",
    "    return df_bd"
   ]
  },
  {
   "cell_type": "markdown",
   "id": "70007770-0f7a-421f-8924-7799c91c94ff",
   "metadata": {
    "id": "3HZloEq5Pn3S"
   },
   "source": [
    "#### Cargue de datos\n",
    "Acceso directo para el caso de movimientos y acceso con sentencia SQL para el caso de movimientosCopia."
   ]
  },
  {
   "cell_type": "code",
   "execution_count": 6,
   "id": "d4ce4b19-674f-404b-b616-c3a1d1c7608b",
   "metadata": {
    "id": "xMaQViPnPn3S"
   },
   "outputs": [],
   "source": [
    "sql_movimientos = 'WWImportersTransactional.movimientosCopia'"
   ]
  },
  {
   "cell_type": "code",
   "execution_count": 7,
   "id": "c3dd495f-b222-4e99-a100-b3897a341cf3",
   "metadata": {
    "id": "fDRojcVMPn3S"
   },
   "outputs": [],
   "source": [
    "sql_detallesMovimientos = '''(SELECT \n",
    "        TransaccionProductoID,\n",
    "        ProductoID,\n",
    "        TipoTransaccionID,\n",
    "        ClienteID,\n",
    "        InvoiceID,\n",
    "        ProveedorID,\n",
    "        OrdenDeCompraID,\n",
    "        FechaTransaccion,\n",
    "        Cantidad \n",
    "        FROM WWImportersTransactional.movimientosCopia) AS Compatible'''"
   ]
  },
  {
   "cell_type": "code",
   "execution_count": 8,
   "id": "f89fc419-df23-4038-aafa-89542cc081f9",
   "metadata": {
    "id": "Ajy_XMshPn3T"
   },
   "outputs": [],
   "source": [
    "#Se cargan los dataframes desde la base de datos\n",
    "movimientos = obtener_dataframe_de_bd(db_connection_string, sql_movimientos, db_user, db_psswd)\n",
    "detallesMovimientos = obtener_dataframe_de_bd(db_connection_string, sql_detallesMovimientos, db_user, db_psswd)\n"
   ]
  },
  {
   "cell_type": "markdown",
   "id": "f584c99d-e473-4a5e-83c9-3595ecb66f4d",
   "metadata": {
    "id": "qxN27II0Pn3T"
   },
   "source": [
    "### Entendimiento general de datos"
   ]
  },
  {
   "cell_type": "code",
   "execution_count": 9,
   "id": "d495e5bf-7d9b-44d4-a187-7e00567941ec",
   "metadata": {
    "id": "HtrqSl0zPn3T",
    "outputId": "c20c03fc-68d4-4d2e-eb8f-91a06cdd3174"
   },
   "outputs": [
    {
     "name": "stdout",
     "output_type": "stream",
     "text": [
      "+---------------------+----------+-----------------+---------+---------+-----------+---------------+----------------+--------+\n",
      "|TransaccionProductoID|ProductoID|TipoTransaccionID|ClienteID|InvoiceID|ProveedorID|OrdenDeCompraID|FechaTransaccion|Cantidad|\n",
      "+---------------------+----------+-----------------+---------+---------+-----------+---------------+----------------+--------+\n",
      "|               118903|       217|               10|    476.0|  24904.0|           |               |     Apr 25,2014|   -40.0|\n",
      "|               286890|       135|               10|     33.0|  60117.0|           |               |     Dec 10,2015|    -7.0|\n",
      "+---------------------+----------+-----------------+---------+---------+-----------+---------------+----------------+--------+\n",
      "only showing top 2 rows\n",
      "\n"
     ]
    }
   ],
   "source": [
    "movimientos.show(2)"
   ]
  },
  {
   "cell_type": "code",
   "execution_count": 10,
   "id": "fc0fe243-ca28-4ece-901e-3b6a07afe0e5",
   "metadata": {
    "id": "MyjWrCe-Pn3T",
    "outputId": "cd7b96e1-d88a-4aef-a525-cc8b810e21d1"
   },
   "outputs": [
    {
     "name": "stdout",
     "output_type": "stream",
     "text": [
      "+---------------------+----------+-----------------+---------+---------+-----------+---------------+----------------+--------+\n",
      "|TransaccionProductoID|ProductoID|TipoTransaccionID|ClienteID|InvoiceID|ProveedorID|OrdenDeCompraID|FechaTransaccion|Cantidad|\n",
      "+---------------------+----------+-----------------+---------+---------+-----------+---------------+----------------+--------+\n",
      "|               118903|       217|               10|    476.0|  24904.0|           |               |     Apr 25,2014|   -40.0|\n",
      "|               286890|       135|               10|     33.0|  60117.0|           |               |     Dec 10,2015|    -7.0|\n",
      "+---------------------+----------+-----------------+---------+---------+-----------+---------------+----------------+--------+\n",
      "only showing top 2 rows\n",
      "\n"
     ]
    }
   ],
   "source": [
    "detallesMovimientos.show(2)"
   ]
  },
  {
   "cell_type": "code",
   "execution_count": null,
   "id": "0021c8ca-2b3f-49f1-922c-01727a401642",
   "metadata": {},
   "outputs": [],
   "source": []
  }
 ],
 "metadata": {
  "kernelspec": {
   "display_name": "Python 3 (ipykernel)",
   "language": "python",
   "name": "python3"
  },
  "language_info": {
   "codemirror_mode": {
    "name": "ipython",
    "version": 3
   },
   "file_extension": ".py",
   "mimetype": "text/x-python",
   "name": "python",
   "nbconvert_exporter": "python",
   "pygments_lexer": "ipython3",
   "version": "3.7.13"
  },
  "toc-showcode": false,
  "toc-showmarkdowntxt": false
 },
 "nbformat": 4,
 "nbformat_minor": 5
}
